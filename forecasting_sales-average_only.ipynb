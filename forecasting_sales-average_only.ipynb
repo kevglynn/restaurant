{
 "cells": [
  {
   "cell_type": "markdown",
   "metadata": {},
   "source": [
    "# forecasting daily sales by day-specific average sales"
   ]
  },
  {
   "cell_type": "markdown",
   "metadata": {},
   "source": [
    "### import statements (data manipulation and viz packages)"
   ]
  },
  {
   "cell_type": "code",
   "execution_count": 1,
   "metadata": {
    "collapsed": true
   },
   "outputs": [],
   "source": [
    "import numpy as np\n",
    "import matplotlib.pyplot as plt\n",
    "import pandas as pd\n",
    "import math\n",
    "import datetime"
   ]
  },
  {
   "cell_type": "code",
   "execution_count": 2,
   "metadata": {
    "collapsed": true
   },
   "outputs": [],
   "source": [
    "%matplotlib inline\n",
    "from matplotlib.pylab import rcParams\n",
    "rcParams['figure.figsize'] = 15, 6"
   ]
  },
  {
   "cell_type": "markdown",
   "metadata": {},
   "source": [
    "### reading data and creating timeseries"
   ]
  },
  {
   "cell_type": "code",
   "execution_count": 3,
   "metadata": {
    "collapsed": false
   },
   "outputs": [],
   "source": [
    "data = pd.read_csv('./sample.csv')\n",
    "data['timestamp'] = pd.to_datetime(data['name-node_ide_dhEmi_$date'])\n",
    "data = data.set_index('timestamp')"
   ]
  },
  {
   "cell_type": "code",
   "execution_count": 4,
   "metadata": {
    "collapsed": false
   },
   "outputs": [
    {
     "data": {
      "text/html": [
       "<div>\n",
       "<table border=\"1\" class=\"dataframe\">\n",
       "  <thead>\n",
       "    <tr style=\"text-align: right;\">\n",
       "      <th></th>\n",
       "      <th>name-node_complemento_valorTotal</th>\n",
       "      <th>name-node_dets_0_nItem</th>\n",
       "      <th>name-node_dets_0_prod_indTot</th>\n",
       "      <th>name-node_dets_0_prod_qCom</th>\n",
       "      <th>name-node_dets_0_prod_uCom</th>\n",
       "      <th>name-node_dets_0_prod_vProd</th>\n",
       "      <th>name-node_dets_0_prod_vUnCom</th>\n",
       "      <th>name-node_dets_0_prod_xProd</th>\n",
       "      <th>name-node_dets_1_nItem</th>\n",
       "      <th>name-node_dets_1_prod_indTot</th>\n",
       "      <th>...</th>\n",
       "      <th>name-node_total_icmsTot_vcofins</th>\n",
       "      <th>name-node_total_icmsTot_vicms</th>\n",
       "      <th>name-node_total_icmsTot_vicmsDeson</th>\n",
       "      <th>name-node_total_icmsTot_vii</th>\n",
       "      <th>name-node_total_icmsTot_vipi</th>\n",
       "      <th>name-node_total_icmsTot_vnf</th>\n",
       "      <th>name-node_total_icmsTot_vpis</th>\n",
       "      <th>name-node_total_icmsTot_vst</th>\n",
       "      <th>name-node_versaoDocumento</th>\n",
       "      <th>name-node_versaoDocumento_$numberLong</th>\n",
       "    </tr>\n",
       "    <tr>\n",
       "      <th>timestamp</th>\n",
       "      <th></th>\n",
       "      <th></th>\n",
       "      <th></th>\n",
       "      <th></th>\n",
       "      <th></th>\n",
       "      <th></th>\n",
       "      <th></th>\n",
       "      <th></th>\n",
       "      <th></th>\n",
       "      <th></th>\n",
       "      <th></th>\n",
       "      <th></th>\n",
       "      <th></th>\n",
       "      <th></th>\n",
       "      <th></th>\n",
       "      <th></th>\n",
       "      <th></th>\n",
       "      <th></th>\n",
       "      <th></th>\n",
       "      <th></th>\n",
       "      <th></th>\n",
       "    </tr>\n",
       "  </thead>\n",
       "  <tbody>\n",
       "    <tr>\n",
       "      <th>2016-01-05 12:01:54</th>\n",
       "      <td>24.90</td>\n",
       "      <td>1</td>\n",
       "      <td>1</td>\n",
       "      <td>1.000</td>\n",
       "      <td>UN</td>\n",
       "      <td>3.50</td>\n",
       "      <td>3.5</td>\n",
       "      <td>AGUA</td>\n",
       "      <td>2.0</td>\n",
       "      <td>1.0</td>\n",
       "      <td>...</td>\n",
       "      <td>0.0</td>\n",
       "      <td>0.0</td>\n",
       "      <td>0.0</td>\n",
       "      <td>0.0</td>\n",
       "      <td>0.0</td>\n",
       "      <td>24.90</td>\n",
       "      <td>0.0</td>\n",
       "      <td>0.0</td>\n",
       "      <td>1.0</td>\n",
       "      <td>NaN</td>\n",
       "    </tr>\n",
       "    <tr>\n",
       "      <th>2016-01-05 12:03:52</th>\n",
       "      <td>92.53</td>\n",
       "      <td>1</td>\n",
       "      <td>1</td>\n",
       "      <td>1.218</td>\n",
       "      <td>KG</td>\n",
       "      <td>83.55</td>\n",
       "      <td>68.6</td>\n",
       "      <td>BUFFET</td>\n",
       "      <td>2.0</td>\n",
       "      <td>1.0</td>\n",
       "      <td>...</td>\n",
       "      <td>0.0</td>\n",
       "      <td>0.0</td>\n",
       "      <td>0.0</td>\n",
       "      <td>0.0</td>\n",
       "      <td>0.0</td>\n",
       "      <td>92.55</td>\n",
       "      <td>0.0</td>\n",
       "      <td>0.0</td>\n",
       "      <td>1.0</td>\n",
       "      <td>NaN</td>\n",
       "    </tr>\n",
       "  </tbody>\n",
       "</table>\n",
       "<p>2 rows × 100 columns</p>\n",
       "</div>"
      ],
      "text/plain": [
       "                     name-node_complemento_valorTotal  name-node_dets_0_nItem  \\\n",
       "timestamp                                                                       \n",
       "2016-01-05 12:01:54                             24.90                       1   \n",
       "2016-01-05 12:03:52                             92.53                       1   \n",
       "\n",
       "                     name-node_dets_0_prod_indTot  name-node_dets_0_prod_qCom  \\\n",
       "timestamp                                                                       \n",
       "2016-01-05 12:01:54                             1                       1.000   \n",
       "2016-01-05 12:03:52                             1                       1.218   \n",
       "\n",
       "                    name-node_dets_0_prod_uCom  name-node_dets_0_prod_vProd  \\\n",
       "timestamp                                                                     \n",
       "2016-01-05 12:01:54                         UN                         3.50   \n",
       "2016-01-05 12:03:52                         KG                        83.55   \n",
       "\n",
       "                     name-node_dets_0_prod_vUnCom name-node_dets_0_prod_xProd  \\\n",
       "timestamp                                                                       \n",
       "2016-01-05 12:01:54                           3.5                        AGUA   \n",
       "2016-01-05 12:03:52                          68.6                      BUFFET   \n",
       "\n",
       "                     name-node_dets_1_nItem  name-node_dets_1_prod_indTot  \\\n",
       "timestamp                                                                   \n",
       "2016-01-05 12:01:54                     2.0                           1.0   \n",
       "2016-01-05 12:03:52                     2.0                           1.0   \n",
       "\n",
       "                                     ...                    \\\n",
       "timestamp                            ...                     \n",
       "2016-01-05 12:01:54                  ...                     \n",
       "2016-01-05 12:03:52                  ...                     \n",
       "\n",
       "                     name-node_total_icmsTot_vcofins  \\\n",
       "timestamp                                              \n",
       "2016-01-05 12:01:54                              0.0   \n",
       "2016-01-05 12:03:52                              0.0   \n",
       "\n",
       "                    name-node_total_icmsTot_vicms  \\\n",
       "timestamp                                           \n",
       "2016-01-05 12:01:54                           0.0   \n",
       "2016-01-05 12:03:52                           0.0   \n",
       "\n",
       "                     name-node_total_icmsTot_vicmsDeson  \\\n",
       "timestamp                                                 \n",
       "2016-01-05 12:01:54                                 0.0   \n",
       "2016-01-05 12:03:52                                 0.0   \n",
       "\n",
       "                     name-node_total_icmsTot_vii name-node_total_icmsTot_vipi  \\\n",
       "timestamp                                                                       \n",
       "2016-01-05 12:01:54                          0.0                          0.0   \n",
       "2016-01-05 12:03:52                          0.0                          0.0   \n",
       "\n",
       "                     name-node_total_icmsTot_vnf  \\\n",
       "timestamp                                          \n",
       "2016-01-05 12:01:54                        24.90   \n",
       "2016-01-05 12:03:52                        92.55   \n",
       "\n",
       "                     name-node_total_icmsTot_vpis  \\\n",
       "timestamp                                           \n",
       "2016-01-05 12:01:54                           0.0   \n",
       "2016-01-05 12:03:52                           0.0   \n",
       "\n",
       "                     name-node_total_icmsTot_vst name-node_versaoDocumento  \\\n",
       "timestamp                                                                    \n",
       "2016-01-05 12:01:54                          0.0                       1.0   \n",
       "2016-01-05 12:03:52                          0.0                       1.0   \n",
       "\n",
       "                     name-node_versaoDocumento_$numberLong  \n",
       "timestamp                                                   \n",
       "2016-01-05 12:01:54                                    NaN  \n",
       "2016-01-05 12:03:52                                    NaN  \n",
       "\n",
       "[2 rows x 100 columns]"
      ]
     },
     "execution_count": 4,
     "metadata": {},
     "output_type": "execute_result"
    }
   ],
   "source": [
    "data.head(2)"
   ]
  },
  {
   "cell_type": "markdown",
   "metadata": {},
   "source": [
    "### aggregating by day"
   ]
  },
  {
   "cell_type": "code",
   "execution_count": 5,
   "metadata": {
    "collapsed": true
   },
   "outputs": [],
   "source": [
    "def _sum(x):\n",
    "    if len(x) == 0: return 0\n",
    "    else: return sum(x)"
   ]
  },
  {
   "cell_type": "code",
   "execution_count": 6,
   "metadata": {
    "collapsed": false
   },
   "outputs": [
    {
     "data": {
      "image/png": "[encoded data removed]",
      "text/plain": [
       "<matplotlib.figure.Figure at 0x113a28a90>"
      ]
     },
     "metadata": {},
     "output_type": "display_data"
    }
   ],
   "source": [
    "dataset = data['name-node_total_icmsTot_vProd'].groupby(pd.TimeGrouper('D'))\\\n",
    "                                                .transform(np.cumsum)\\\n",
    "                                                .resample('D')\\\n",
    "                                                .apply(_sum)\n",
    "plt.plot(dataset)\n",
    "plt.show()"
   ]
  },
  {
   "cell_type": "markdown",
   "metadata": {},
   "source": [
    "### find day-of-week and then average by day-of-week"
   ]
  },
  {
   "cell_type": "code",
   "execution_count": 7,
   "metadata": {
    "collapsed": false
   },
   "outputs": [],
   "source": [
    "df = dataset.to_frame()"
   ]
  },
  {
   "cell_type": "code",
   "execution_count": 8,
   "metadata": {
    "collapsed": false
   },
   "outputs": [],
   "source": [
    "df['timestamp'] = df.index\n",
    "\n",
    "df['weekday'] = df['timestamp'].apply(lambda x: x.weekday())"
   ]
  },
  {
   "cell_type": "code",
   "execution_count": 9,
   "metadata": {
    "collapsed": false
   },
   "outputs": [
    {
     "data": {
      "text/html": [
       "<div>\n",
       "<table border=\"1\" class=\"dataframe\">\n",
       "  <thead>\n",
       "    <tr style=\"text-align: right;\">\n",
       "      <th></th>\n",
       "      <th>name-node_total_icmsTot_vProd</th>\n",
       "      <th>timestamp</th>\n",
       "      <th>weekday</th>\n",
       "    </tr>\n",
       "    <tr>\n",
       "      <th>timestamp</th>\n",
       "      <th></th>\n",
       "      <th></th>\n",
       "      <th></th>\n",
       "    </tr>\n",
       "  </thead>\n",
       "  <tbody>\n",
       "    <tr>\n",
       "      <th>2016-01-05</th>\n",
       "      <td>361228.32</td>\n",
       "      <td>2016-01-05</td>\n",
       "      <td>1</td>\n",
       "    </tr>\n",
       "    <tr>\n",
       "      <th>2016-01-06</th>\n",
       "      <td>394866.27</td>\n",
       "      <td>2016-01-06</td>\n",
       "      <td>2</td>\n",
       "    </tr>\n",
       "    <tr>\n",
       "      <th>2016-01-07</th>\n",
       "      <td>133111.49</td>\n",
       "      <td>2016-01-07</td>\n",
       "      <td>3</td>\n",
       "    </tr>\n",
       "  </tbody>\n",
       "</table>\n",
       "</div>"
      ],
      "text/plain": [
       "            name-node_total_icmsTot_vProd  timestamp  weekday\n",
       "timestamp                                                    \n",
       "2016-01-05                      361228.32 2016-01-05        1\n",
       "2016-01-06                      394866.27 2016-01-06        2\n",
       "2016-01-07                      133111.49 2016-01-07        3"
      ]
     },
     "execution_count": 9,
     "metadata": {},
     "output_type": "execute_result"
    }
   ],
   "source": [
    "df.head(3)"
   ]
  },
  {
   "cell_type": "markdown",
   "metadata": {},
   "source": [
    "look at sum by day-of-week, noticing again **no sales Sunday (i.e. closed)**"
   ]
  },
  {
   "cell_type": "code",
   "execution_count": 10,
   "metadata": {
    "collapsed": false
   },
   "outputs": [
    {
     "data": {
      "text/html": [
       "<div>\n",
       "<table border=\"1\" class=\"dataframe\">\n",
       "  <thead>\n",
       "    <tr style=\"text-align: right;\">\n",
       "      <th></th>\n",
       "      <th>name-node_total_icmsTot_vProd</th>\n",
       "    </tr>\n",
       "    <tr>\n",
       "      <th>weekday</th>\n",
       "      <th></th>\n",
       "    </tr>\n",
       "  </thead>\n",
       "  <tbody>\n",
       "    <tr>\n",
       "      <th>0</th>\n",
       "      <td>620146.54</td>\n",
       "    </tr>\n",
       "    <tr>\n",
       "      <th>1</th>\n",
       "      <td>1102783.93</td>\n",
       "    </tr>\n",
       "    <tr>\n",
       "      <th>2</th>\n",
       "      <td>1422402.62</td>\n",
       "    </tr>\n",
       "    <tr>\n",
       "      <th>3</th>\n",
       "      <td>586374.48</td>\n",
       "    </tr>\n",
       "    <tr>\n",
       "      <th>4</th>\n",
       "      <td>342385.91</td>\n",
       "    </tr>\n",
       "    <tr>\n",
       "      <th>5</th>\n",
       "      <td>306171.64</td>\n",
       "    </tr>\n",
       "    <tr>\n",
       "      <th>6</th>\n",
       "      <td>0.00</td>\n",
       "    </tr>\n",
       "  </tbody>\n",
       "</table>\n",
       "</div>"
      ],
      "text/plain": [
       "         name-node_total_icmsTot_vProd\n",
       "weekday                               \n",
       "0                            620146.54\n",
       "1                           1102783.93\n",
       "2                           1422402.62\n",
       "3                            586374.48\n",
       "4                            342385.91\n",
       "5                            306171.64\n",
       "6                                 0.00"
      ]
     },
     "execution_count": 10,
     "metadata": {},
     "output_type": "execute_result"
    }
   ],
   "source": [
    "df[['name-node_total_icmsTot_vProd', 'weekday']].groupby('weekday').sum()"
   ]
  },
  {
   "cell_type": "markdown",
   "metadata": {},
   "source": [
    "### plot average by day-of-week"
   ]
  },
  {
   "cell_type": "code",
   "execution_count": 11,
   "metadata": {
    "collapsed": false
   },
   "outputs": [
    {
     "data": {
      "image/png": "[encoded data removed]",
      "text/plain": [
       "<matplotlib.figure.Figure at 0x113949650>"
      ]
     },
     "metadata": {},
     "output_type": "display_data"
    }
   ],
   "source": [
    "ax = df[['name-node_total_icmsTot_vProd', 'weekday']].groupby('weekday').mean().plot()"
   ]
  },
  {
   "cell_type": "markdown",
   "metadata": {},
   "source": [
    "### create a list of averages by day-of-week for the next 7 days and append"
   ]
  },
  {
   "cell_type": "code",
   "execution_count": 12,
   "metadata": {
    "collapsed": false
   },
   "outputs": [],
   "source": [
    "base = df.last_valid_index() + 7\n",
    "date_list = [base - datetime.timedelta(days=x) for x in range(0, 7)]"
   ]
  },
  {
   "cell_type": "code",
   "execution_count": 13,
   "metadata": {
    "collapsed": false
   },
   "outputs": [],
   "source": [
    "new_dates = pd.DataFrame(date_list)\n",
    "\n",
    "new_dates = new_dates.set_index(0)\n",
    "\n",
    "new_dates['timestamp'] = new_dates.index\n",
    "\n",
    "new_dates['weekday'] = new_dates['timestamp'].apply(lambda x: x.weekday())"
   ]
  },
  {
   "cell_type": "code",
   "execution_count": 14,
   "metadata": {
    "collapsed": false
   },
   "outputs": [],
   "source": [
    "new_dates = new_dates.sort_index()\n",
    "\n",
    "daily_avg = df[['name-node_total_icmsTot_vProd', 'weekday']].groupby('weekday').mean()\n",
    "\n",
    "daily_avg['weekday'] = daily_avg.index\n",
    "\n",
    "new_dates = new_dates[['weekday']].join(daily_avg, on='weekday', how='inner', lsuffix='newd', rsuffix='d_avg')\n",
    "\n",
    "new_dates = new_dates[['name-node_total_icmsTot_vProd', 'weekday']]\n",
    "\n",
    "forecasted = df[['name-node_total_icmsTot_vProd', 'weekday']].append(new_dates)"
   ]
  },
  {
   "cell_type": "code",
   "execution_count": 15,
   "metadata": {
    "collapsed": false
   },
   "outputs": [
    {
     "data": {
      "text/html": [
       "<div>\n",
       "<table border=\"1\" class=\"dataframe\">\n",
       "  <thead>\n",
       "    <tr style=\"text-align: right;\">\n",
       "      <th></th>\n",
       "      <th>name-node_total_icmsTot_vProd</th>\n",
       "      <th>weekday</th>\n",
       "    </tr>\n",
       "  </thead>\n",
       "  <tbody>\n",
       "    <tr>\n",
       "      <th>2016-01-05</th>\n",
       "      <td>361228.32</td>\n",
       "      <td>1</td>\n",
       "    </tr>\n",
       "    <tr>\n",
       "      <th>2016-01-06</th>\n",
       "      <td>394866.27</td>\n",
       "      <td>2</td>\n",
       "    </tr>\n",
       "    <tr>\n",
       "      <th>2016-01-07</th>\n",
       "      <td>133111.49</td>\n",
       "      <td>3</td>\n",
       "    </tr>\n",
       "  </tbody>\n",
       "</table>\n",
       "</div>"
      ],
      "text/plain": [
       "            name-node_total_icmsTot_vProd  weekday\n",
       "2016-01-05                      361228.32        1\n",
       "2016-01-06                      394866.27        2\n",
       "2016-01-07                      133111.49        3"
      ]
     },
     "execution_count": 15,
     "metadata": {},
     "output_type": "execute_result"
    }
   ],
   "source": [
    "forecasted.head(3)"
   ]
  },
  {
   "cell_type": "code",
   "execution_count": 16,
   "metadata": {
    "collapsed": false
   },
   "outputs": [],
   "source": [
    "a = forecasted['name-node_total_icmsTot_vProd'][:-6]\n",
    "b = new_dates['name-node_total_icmsTot_vProd']\n",
    "\n",
    "t = np.linspace(forecasted.index[0].value,forecasted.last_valid_index().value, len(forecasted))\n",
    "t = pd.to_datetime(t)"
   ]
  },
  {
   "cell_type": "code",
   "execution_count": 17,
   "metadata": {
    "collapsed": false
   },
   "outputs": [
    {
     "data": {
      "text/plain": [
       "DatetimeIndex(['2016-01-05', '2016-01-06', '2016-01-07', '2016-01-08',\n",
       "               '2016-01-09', '2016-01-10', '2016-01-11', '2016-01-12',\n",
       "               '2016-01-13', '2016-01-14', '2016-01-15', '2016-01-16',\n",
       "               '2016-01-17', '2016-01-18', '2016-01-19', '2016-01-20',\n",
       "               '2016-01-21', '2016-01-22', '2016-01-23', '2016-01-24',\n",
       "               '2016-01-25', '2016-01-26', '2016-01-27', '2016-01-28',\n",
       "               '2016-01-29', '2016-01-30'],\n",
       "              dtype='datetime64[ns]', freq=None)"
      ]
     },
     "execution_count": 17,
     "metadata": {},
     "output_type": "execute_result"
    }
   ],
   "source": [
    "t"
   ]
  },
  {
   "cell_type": "markdown",
   "metadata": {},
   "source": [
    "### plot sales with the \"day-of-week-average forecast\""
   ]
  },
  {
   "cell_type": "code",
   "execution_count": 19,
   "metadata": {
    "collapsed": false
   },
   "outputs": [
    {
     "data": {
      "image/png": "[encoded data removed]",
      "text/plain": [
       "<matplotlib.figure.Figure at 0x114bccc90>"
      ]
     },
     "metadata": {},
     "output_type": "display_data"
    }
   ],
   "source": [
    "plt.plot(t[:-6],a,'r') # plotting t,a separately \n",
    "plt.plot(t[-7:],b,'b') # plotting t,b separately \n",
    "# plt.plot(t,c,'g') # plotting t,c separately \n",
    "plt.legend(loc='best')\n",
    "plt.show()"
   ]
  },
  {
   "cell_type": "code",
   "execution_count": null,
   "metadata": {
    "collapsed": true
   },
   "outputs": [],
   "source": []
  }
 ],
 "metadata": {
  "kernelspec": {
   "display_name": "Python 2",
   "language": "python",
   "name": "python2"
  },
  "language_info": {
   "codemirror_mode": {
    "name": "ipython",
    "version": 2
   },
   "file_extension": ".py",
   "mimetype": "text/x-python",
   "name": "python",
   "nbconvert_exporter": "python",
   "pygments_lexer": "ipython2",
   "version": "2.7.11"
  }
 },
 "nbformat": 4,
 "nbformat_minor": 0
}
